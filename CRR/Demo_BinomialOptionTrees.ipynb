{
 "cells": [
  {
   "cell_type": "markdown",
   "metadata": {},
   "source": [
    "# Binomial Option Trees."
   ]
  },
  {
   "cell_type": "markdown",
   "metadata": {},
   "source": [
    "## Introduction."
   ]
  },
  {
   "cell_type": "markdown",
   "metadata": {},
   "source": [
    "The Cox, Ross and Rubinstein (CRR) model is a binomial pricing option model used for pricing options and other derivatives. It is particularly useful for valuing American and exotic options based on a discrete time frame. In this notebook, I will consider both American and European options."
   ]
  },
  {
   "cell_type": "markdown",
   "metadata": {},
   "source": [
    "## Assumptions and Notations."
   ]
  },
  {
   "cell_type": "markdown",
   "metadata": {},
   "source": [
    "### Assumptions. "
   ]
  },
  {
   "cell_type": "markdown",
   "metadata": {},
   "source": [
    "This model assumes the following:\n",
    "* No trading costs/taxes.\n",
    "* Constant risk free rate throughout the period of consideration.\n",
    "* No minimum/maximum requirements for trade execution.  \n",
    "* The price can vary only two ways: Up or Down.\n",
    "* No arbitrage."
   ]
  },
  {
   "cell_type": "markdown",
   "metadata": {},
   "source": [
    "### Notations."
   ]
  },
  {
   "cell_type": "markdown",
   "metadata": {},
   "source": [
    "I have used the following notations:\n",
    "* $s_{0}$ = Price of the underlying derivative at $t$ = 0.\n",
    "* $vol$ = Volatility of the underlying derivative.\n",
    "* $r_f$ = Risk-free rate.\n",
    "* $x$ = Strike price of the underlying derivative.\n",
    "* $div$ = Dividend yield paid continuously.\n",
    "* $time$ = Time to expiry of the option.\n",
    "* $tree$ = Number of trees.\n",
    "\n",
    "Therefore:\n",
    "$$\n",
    "\\begin{aligned}\n",
    "s_0e^{({rf}-{div})\\Delta t}&=qs_0u+(1-q)s_0d \\\\ \\\\\n",
    "where \\\\\n",
    "u&=e^{\\sigma \\sqrt{\\Delta t}} \\\\\n",
    "d&=\\frac{1}{u} \\\\\n",
    "\\Delta t&= \\frac{time}{tree} \\\\\n",
    "q&=\\frac{e^{\\sigma \\sqrt{\\Delta t}}-d}{u-d}\n",
    "\\end{aligned}\n",
    "$$"
   ]
  },
  {
   "cell_type": "markdown",
   "metadata": {},
   "source": [
    "## European Options."
   ]
  },
  {
   "cell_type": "markdown",
   "metadata": {},
   "source": [
    "European options are options that can only be exercised at the time of expiry. As a demonstration, we are going to use the following input parameters:\n",
    "\n",
    "* $s_{0}$ = 144\n",
    "* vol = 0.315573\n",
    "* $r_f$ = 0.19062\n",
    "* $x$ = 144\n",
    "* $div$ = 0\n",
    "* $time$ = 1.5\n",
    "* $tree$ = 3"
   ]
  },
  {
   "cell_type": "markdown",
   "metadata": {},
   "source": [
    "### Displaying the pricing tree."
   ]
  },
  {
   "cell_type": "code",
   "execution_count": 1,
   "metadata": {},
   "outputs": [
    {
     "name": "stdout",
     "output_type": "stream",
     "text": [
      "[[144.     180.     225.0001 281.2502]\n",
      " [  0.     115.2    144.     180.    ]\n",
      " [  0.       0.     144.     180.    ]\n",
      " [  0.       0.      92.16   115.2   ]\n",
      " [  0.       0.       0.     180.    ]\n",
      " [  0.       0.       0.     115.2   ]\n",
      " [  0.       0.       0.     115.2   ]\n",
      " [  0.       0.       0.      73.7279]]\n"
     ]
    }
   ],
   "source": [
    "import BinomialTrees as bin #importing \n",
    "\n",
    "derivative=bin.European(144,0.315573,0.19062,144,0,1.5,3) #initialization\n",
    "print(derivative.price()) # Display pricing tree."
   ]
  },
  {
   "cell_type": "markdown",
   "metadata": {},
   "source": [
    "### Calculating the value of the call."
   ]
  },
  {
   "cell_type": "code",
   "execution_count": 2,
   "metadata": {},
   "outputs": [
    {
     "name": "stdout",
     "output_type": "stream",
     "text": [
      "Call option value: 42.57\n",
      "Input parameters:\n",
      "s0=144.0\n",
      "vol=0.315573\n",
      "rf=0.19062\n",
      "x=144.0\n",
      "div=0.0\n",
      "time=1.5\n",
      "tree=3\n"
     ]
    }
   ],
   "source": [
    "import BinomialTrees as bin #importing \n",
    "\n",
    "derivative=bin.European(144,0.315573,0.19062,144,0,1.5,3) #initialization\n",
    "derivative.call() # Calculate call value\n"
   ]
  },
  {
   "cell_type": "markdown",
   "metadata": {},
   "source": [
    "### Displaying the call option tree."
   ]
  },
  {
   "cell_type": "code",
   "execution_count": 3,
   "metadata": {},
   "outputs": [
    {
     "name": "stdout",
     "output_type": "stream",
     "text": [
      "[[ 42.5745  63.6364  94.091  137.2502]\n",
      " [  0.      13.2231  21.8182  36.    ]\n",
      " [  0.       0.      21.8182  36.    ]\n",
      " [  0.       0.       0.       0.    ]\n",
      " [  0.       0.       0.      36.    ]\n",
      " [  0.       0.       0.       0.    ]\n",
      " [  0.       0.       0.       0.    ]\n",
      " [  0.       0.       0.       0.    ]]\n"
     ]
    }
   ],
   "source": [
    "import BinomialTrees as bin #importing \n",
    "\n",
    "derivative=bin.European(144,0.315573,0.19062,144,0,1.5,3) #initialization\n",
    "print(derivative.call_show()) # Display call option tree"
   ]
  },
  {
   "cell_type": "markdown",
   "metadata": {},
   "source": [
    "### Calculating the value of the put."
   ]
  },
  {
   "cell_type": "code",
   "execution_count": 4,
   "metadata": {},
   "outputs": [
    {
     "name": "stdout",
     "output_type": "stream",
     "text": [
      "Put option value: 6.76\n",
      "Input parameters:\n",
      "s0=144.0\n",
      "vol=0.315573\n",
      "rf=0.19062\n",
      "x=144.0\n",
      "div=0.0\n",
      "time=1.5\n",
      "tree=3\n"
     ]
    }
   ],
   "source": [
    "import BinomialTrees as bin #importing \n",
    "\n",
    "derivative=bin.European(144,0.315573,0.19062,144,0,1.5,3) #initialization\n",
    "derivative.put() # Calculate put value"
   ]
  },
  {
   "cell_type": "markdown",
   "metadata": {},
   "source": [
    "### Displaying the put option tree."
   ]
  },
  {
   "cell_type": "code",
   "execution_count": 5,
   "metadata": {},
   "outputs": [
    {
     "name": "stdout",
     "output_type": "stream",
     "text": [
      "[[ 6.7639  2.6446  0.      0.    ]\n",
      " [ 0.     17.0315  8.7273  0.    ]\n",
      " [ 0.      0.      8.7273  0.    ]\n",
      " [ 0.      0.     38.7492 28.8   ]\n",
      " [ 0.      0.      0.      0.    ]\n",
      " [ 0.      0.      0.     28.8   ]\n",
      " [ 0.      0.      0.     28.8   ]\n",
      " [ 0.      0.      0.     70.2721]]\n"
     ]
    }
   ],
   "source": [
    "import BinomialTrees as bin #importing \n",
    "\n",
    "derivative=bin.European(144,0.315573,0.19062,144,0,1.5,3) #initialization\n",
    "print(derivative.put_show()) # Display put option tree"
   ]
  },
  {
   "cell_type": "code",
   "execution_count": 6,
   "metadata": {},
   "outputs": [
    {
     "name": "stdout",
     "output_type": "stream",
     "text": [
      "Put option value: 6.76\n",
      "Input parameters:\n",
      "s0=144.0\n",
      "vol=0.315573\n",
      "rf=0.19062\n",
      "x=144.0\n",
      "div=0.0\n",
      "time=1.5\n",
      "tree=3\n"
     ]
    }
   ],
   "source": [
    "import BinomialTrees as bin #importing \n",
    "\n",
    "derivative=bin.European(144,0.315573,0.19062,144,0,1.5,3) #initialization\n",
    "derivative.put() # Calculate put value"
   ]
  },
  {
   "cell_type": "markdown",
   "metadata": {},
   "source": [
    "### CRR model convergence to Black-Scholes-Merton model."
   ]
  },
  {
   "cell_type": "markdown",
   "metadata": {},
   "source": [
    "As the time step becomes smaller, the CRR model converges to the Black-Scholes-Merton model. However, depending on the input variables, the convergence is not always uniform and it oscillates."
   ]
  },
  {
   "cell_type": "code",
   "execution_count": 7,
   "metadata": {},
   "outputs": [
    {
     "name": "stdout",
     "output_type": "stream",
     "text": [
      "The Theoretical call value is: 42.181812997239916\n",
      "The CRR call value is: 42.57448713846103\n"
     ]
    }
   ],
   "source": [
    "import BinomialTrees as bin #importing \n",
    "import numpy as np\n",
    "import matplotlib.pyplot as plt #Plotting package\n",
    "from scipy.stats import norm\n",
    "\n",
    "def  BS(s0,vol,rf,x,div,time): #Calculating the theoretical call price via B-S Model.\n",
    "    \n",
    "    d1=((np.log(s0/x))+(rf-div+0.5*(vol**2))*time)/(vol*np.sqrt(time))\n",
    "    d2= d1-(vol*np.sqrt(time))\n",
    "    derivative=s0*np.exp(-div*time)*norm.cdf(d1)-x*np.exp(-rf*time)*norm.cdf(d2)\n",
    "    return(derivative)\n",
    "\n",
    "derivative=bin.European(144,0.315573,0.19062,144,0,1.5,3) #initialization of CRR model.\n",
    "Theoretical_price=BS(144,0.315573,0.19062,144,0,1.5)\n",
    "    \n",
    "print(f'The Theoretical call value is: {Theoretical_price}\\nThe CRR call value is: {derivative.call_show()[0,0]}')\n"
   ]
  },
  {
   "cell_type": "markdown",
   "metadata": {},
   "source": [
    "As seen above the theoretical value is approximately equal to the CRR value when using 3 trees. It can also be demonstrated, as the time step changes, it oscillates."
   ]
  },
  {
   "cell_type": "code",
   "execution_count": 8,
   "metadata": {},
   "outputs": [
    {
     "data": {
      "text/plain": [
       "<matplotlib.legend.Legend at 0x7f12f90782d0>"
      ]
     },
     "execution_count": 8,
     "metadata": {},
     "output_type": "execute_result"
    },
    {
     "data": {
      "image/png": "[encoded data removed]",
      "text/plain": [
       "<Figure size 432x288 with 1 Axes>"
      ]
     },
     "metadata": {},
     "output_type": "display_data"
    }
   ],
   "source": [
    "n_call=[]\n",
    "for i in range(1,12):\n",
    "    derivative=bin.European(144,0.315573,0.19062,144,0,1.5,i) #initialization of CRR model.\n",
    "    n_call.append(derivative.call_show()[0,0])\n",
    "plt.style.use('ggplot')\n",
    "plt.plot(list(range(1,i+1)),n_call,marker=\"o\",color=\"green\",label=\"CRR Model\")\n",
    "plt.ylabel(\"Value of Call\")\n",
    "plt.xlabel(\"Number of trees\")\n",
    "plt.title(\"CRR Vs BS\")\n",
    "plt.axhline(y=Theoretical_price,color='red',linestyle='-',label=\"Theoretical (BS) Model\")\n",
    "\n",
    "plt.legend()\n"
   ]
  },
  {
   "cell_type": "markdown",
   "metadata": {},
   "source": [
    "## American Options."
   ]
  },
  {
   "cell_type": "markdown",
   "metadata": {},
   "source": [
    "American options are options that can be exercised at any time prior to expiry. As a demonstration, we are going to use the following input parameters:\n",
    "\n",
    "* $s_{0}$ = 144\n",
    "* $vol$ = 0.315573\n",
    "* $r_f$ = 0.19062\n",
    "* $x$ = 144\n",
    "* $div$ = 0.141235\n",
    "* $time$ = 1.5\n",
    "* $tree$ = 3"
   ]
  },
  {
   "cell_type": "markdown",
   "metadata": {},
   "source": [
    "### Displaying the pricing tree."
   ]
  },
  {
   "cell_type": "code",
   "execution_count": 9,
   "metadata": {},
   "outputs": [
    {
     "name": "stdout",
     "output_type": "stream",
     "text": [
      "[[144.     180.     225.0001 281.2502]\n",
      " [  0.     115.2    144.     180.    ]\n",
      " [  0.       0.     144.     180.    ]\n",
      " [  0.       0.      92.16   115.2   ]\n",
      " [  0.       0.       0.     180.    ]\n",
      " [  0.       0.       0.     115.2   ]\n",
      " [  0.       0.       0.     115.2   ]\n",
      " [  0.       0.       0.      73.7279]]\n"
     ]
    }
   ],
   "source": [
    "import BinomialTrees as bin #importing \n",
    "\n",
    "derivative=bin.American(144,0.315573,0.19062,144,0.141235,1.5,3) #initialization\n",
    "print(derivative.price()) # Display pricing tree."
   ]
  },
  {
   "cell_type": "markdown",
   "metadata": {},
   "source": [
    "### Calculating the value of the call."
   ]
  },
  {
   "cell_type": "code",
   "execution_count": 10,
   "metadata": {},
   "outputs": [
    {
     "name": "stdout",
     "output_type": "stream",
     "text": [
      "Call option value: 23.50\n",
      "Input parameters:\n",
      "s0=144.0\n",
      "vol=0.315573\n",
      "rf=0.19062\n",
      "x=144.0\n",
      "div=0.141235\n",
      "time=1.5\n",
      "tree=3\n"
     ]
    }
   ],
   "source": [
    "import BinomialTrees as bin #importing \n",
    "\n",
    "derivative=bin.American(144,0.315573,0.19062,144,0.141235,1.5,3) #initialization\n",
    "derivative.call() # Calculate call value"
   ]
  },
  {
   "cell_type": "markdown",
   "metadata": {},
   "source": [
    "### Displaying the call option tree."
   ]
  },
  {
   "cell_type": "code",
   "execution_count": 11,
   "metadata": {},
   "outputs": [
    {
     "data": {
      "text/plain": [
       "array([[ 23.4974,  44.2562,  81.0001, 137.2502],\n",
       "       [  0.    ,   7.438 ,  16.3636,  36.    ],\n",
       "       [  0.    ,   0.    ,  16.3636,  36.    ],\n",
       "       [  0.    ,   0.    ,   0.    ,   0.    ],\n",
       "       [  0.    ,   0.    ,   0.    ,  36.    ],\n",
       "       [  0.    ,   0.    ,   0.    ,   0.    ],\n",
       "       [  0.    ,   0.    ,   0.    ,   0.    ],\n",
       "       [  0.    ,   0.    ,   0.    ,   0.    ]])"
      ]
     },
     "execution_count": 11,
     "metadata": {},
     "output_type": "execute_result"
    }
   ],
   "source": [
    "import BinomialTrees as bin #importing \n",
    "\n",
    "derivative=bin.American(144,0.315573,0.19062,144,0.141235,1.5,3) #initialization\n",
    "derivative.call_show() # Display call option tree"
   ]
  },
  {
   "cell_type": "markdown",
   "metadata": {},
   "source": [
    "### Calculating the value of the put."
   ]
  },
  {
   "cell_type": "code",
   "execution_count": 12,
   "metadata": {},
   "outputs": [
    {
     "name": "stdout",
     "output_type": "stream",
     "text": [
      "Put option value: 16.12\n",
      "Input parameters:\n",
      "s0=144.0\n",
      "vol=0.315573\n",
      "rf=0.19062\n",
      "x=144.0\n",
      "div=0.141235\n",
      "time=1.5\n",
      "tree=3\n"
     ]
    }
   ],
   "source": [
    "import BinomialTrees as bin #importing \n",
    "\n",
    "derivative=bin.American(144,0.315573,0.19062,144,0.141235,1.5,3) #initialization\n",
    "derivative.put() # Calculate put value"
   ]
  },
  {
   "cell_type": "markdown",
   "metadata": {},
   "source": [
    "### Displaying the put option tree."
   ]
  },
  {
   "cell_type": "code",
   "execution_count": 13,
   "metadata": {},
   "outputs": [
    {
     "name": "stdout",
     "output_type": "stream",
     "text": [
      "[[16.1203  5.9504  0.      0.    ]\n",
      " [ 0.     29.5141 13.0909  0.    ]\n",
      " [ 0.      0.     13.0909  0.    ]\n",
      " [ 0.      0.     51.84   28.8   ]\n",
      " [ 0.      0.      0.      0.    ]\n",
      " [ 0.      0.      0.     28.8   ]\n",
      " [ 0.      0.      0.     28.8   ]\n",
      " [ 0.      0.      0.     70.2721]]\n"
     ]
    }
   ],
   "source": [
    "import BinomialTrees as bin #importing \n",
    "\n",
    "derivative=bin.American(144,0.315573,0.19062,144,0.141235,1.5,3) #initialization\n",
    "print(derivative.put_show()) # Display put option tree"
   ]
  }
 ],
 "metadata": {
  "kernelspec": {
   "display_name": "Python 3",
   "language": "python",
   "name": "python3"
  },
  "language_info": {
   "codemirror_mode": {
    "name": "ipython",
    "version": 3
   },
   "file_extension": ".py",
   "mimetype": "text/x-python",
   "name": "python",
   "nbconvert_exporter": "python",
   "pygments_lexer": "ipython3",
   "version": "3.7.6"
  }
 },
 "nbformat": 4,
 "nbformat_minor": 4
}
