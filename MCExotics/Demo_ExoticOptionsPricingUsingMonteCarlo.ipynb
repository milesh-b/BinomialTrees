{
 "cells": [
  {
   "cell_type": "markdown",
   "metadata": {},
   "source": [
    "# Exotic Option Pricing using Monte Carlo.\n"
   ]
  },
  {
   "cell_type": "markdown",
   "metadata": {},
   "source": [
    "Monte Carlo simulations are powerful techniques for solving mathematical problems by optimization, integration or random sampling. It's true power comes when it is difficult/impossible to analytically compute the estimators for a given problem. This notebook will demonstrate how to use the Exotic option pricing calculator (MCExotics.py) in pricing the following options:\n",
    "\n",
    "* European options.\n",
    "* Fixed Strike options.\n",
    "* European (Floating Strike).\n",
    "* Asian (Fixed Strike).\n",
    "* Asian (Floating Strike).\n",
    "\n",
    "The Monte Carlo method used in pricing the above is a N-step binomial tree and sampling from the possible $2^N$ paths."
   ]
  },
  {
   "cell_type": "markdown",
   "metadata": {},
   "source": [
    "## Assumptions and Notations."
   ]
  },
  {
   "cell_type": "markdown",
   "metadata": {},
   "source": [
    "### Assumptions. "
   ]
  },
  {
   "cell_type": "markdown",
   "metadata": {},
   "source": [
    "This model assumes the following:\n",
    "* No trading costs/taxes.\n",
    "* Constant risk free rate throughout the period of consideration.\n",
    "* No minimum/maximum requirements for trade execution.  \n",
    "* The price can vary only two ways: Up or Down.\n",
    "* No arbitrage."
   ]
  },
  {
   "cell_type": "markdown",
   "metadata": {},
   "source": [
    "### Notations."
   ]
  },
  {
   "cell_type": "markdown",
   "metadata": {},
   "source": [
    "I have used the following notations:\n",
    "* $s_{0}$ = Price of the underlying derivative at $t$ = 0.\n",
    "* $vol$ = Volatility of the underlying derivative.\n",
    "* $r$ = Risk-free rate.\n",
    "* $x$ = Strike price of the underlying derivative.\n",
    "* $div$ = Dividend yield paid continuously.\n",
    "* $time$ = Time to expiry of the option.\n",
    "* $tree$ = Number of trees/paths to be considered.\n",
    "* $sim$ = Number of simulations to be carried out.\n",
    "\n",
    "$\n",
    "\\begin{aligned}\n",
    "where \\\\\n",
    "\\Delta t&= \\frac{time}{tree} \\\\\n",
    "u&=e^{\\sigma \\sqrt{\\Delta t}} \\\\\n",
    "d&=\\frac{1}{u} \\\\\n",
    "q&=\\frac{e^{\\sigma \\sqrt{\\Delta t}}-d}{u-d}\n",
    "\\end{aligned}\n",
    "$"
   ]
  },
  {
   "cell_type": "markdown",
   "metadata": {},
   "source": [
    "## European Options."
   ]
  },
  {
   "cell_type": "markdown",
   "metadata": {},
   "source": [
    "European options are options that can only be exercised at the time of expiry. The payoff for this option is:\n",
    "$$\n",
    "Payoff=\n",
    "\\begin{cases}\n",
    "Max(S_T-x,0),&if\\:Call\\\\\n",
    "Max(x-S_T,0),&if\\:Put\n",
    "\\end{cases}\n",
    "\\\\\n",
    "\\\\\n",
    "$$"
   ]
  },
  {
   "cell_type": "markdown",
   "metadata": {},
   "source": [
    "As a demonstration, the following input parameters have been considered:\n",
    "\n",
    "* $s_{0}$ = 144\n",
    "* $vol$ = 0.315573\n",
    "* $r$ = 0.19062\n",
    "* $x$ = 144\n",
    "* $div$ = 0\n",
    "* $time$ = 1.5\n",
    "* $tree$ = 63\n",
    "* $sim$ = 10000"
   ]
  },
  {
   "cell_type": "markdown",
   "metadata": {},
   "source": [
    "### Calculating the value of the Call option."
   ]
  },
  {
   "cell_type": "code",
   "execution_count": 1,
   "metadata": {},
   "outputs": [
    {
     "name": "stdout",
     "output_type": "stream",
     "text": [
      "Call option value: 42.18\n",
      " Input parameters:\n",
      "s0=144.0\n",
      "vol=0.315573\n",
      "r=0.19062\n",
      "x=144.0\n",
      "div=0.0\n",
      "time=1.5\n",
      "tree=63\n",
      "sim=10000\n"
     ]
    }
   ],
   "source": [
    "import MCExotics as Exotics #importing the calculator\n",
    "\n",
    "derivative=Exotics.MCEuropean(144,0.315573,0.19062,144,0,1.5,63,10000) #initialization\n",
    "derivative.call() #value of the option\n"
   ]
  },
  {
   "cell_type": "markdown",
   "metadata": {},
   "source": [
    "### Calculating the value of the Put option."
   ]
  },
  {
   "cell_type": "code",
   "execution_count": 2,
   "metadata": {},
   "outputs": [
    {
     "name": "stdout",
     "output_type": "stream",
     "text": [
      "Put option value: 6.50\n",
      " Input parameters:\n",
      "s0=144.0\n",
      "vol=0.315573\n",
      "r=0.19062\n",
      "x=144.0\n",
      "div=0.0\n",
      "time=1.5\n",
      "tree=63\n",
      "sim=10000\n"
     ]
    }
   ],
   "source": [
    "import MCExotics as Exotics #importing the calculator\n",
    "\n",
    "derivative=Exotics.MCEuropean(144,0.315573,0.19062,144,0,1.5,63,10000) #initialization\n",
    "derivative.put() #value of the option"
   ]
  },
  {
   "cell_type": "markdown",
   "metadata": {},
   "source": [
    "## Fixed Strike Options."
   ]
  },
  {
   "cell_type": "markdown",
   "metadata": {},
   "source": [
    "The payoff from fixed strike options depend on the maximum or minimum price the derivative reaches over its life. ie:\n",
    "\n",
    "$$\n",
    "Payoff=\n",
    "\\begin{cases}\n",
    "Max(S_t^*-x,0),&if\\:Call\\\\\n",
    "Max(x-S_t^{**},0),&if\\:Put\n",
    "\\end{cases}\n",
    "\\\\\\:\n",
    "\\\\\n",
    "$$"
   ]
  },
  {
   "cell_type": "markdown",
   "metadata": {},
   "source": [
    "$$\n",
    "\\begin{aligned}\n",
    "\\\\\n",
    "&Where\\\\\n",
    "S_t^*&=max(S_t:0\\le t \\le T)\\\\\n",
    "S_t^{**}&=min(S_t:0\\le t \\le T)\n",
    "\\end{aligned}\n",
    "$$"
   ]
  },
  {
   "cell_type": "markdown",
   "metadata": {},
   "source": [
    "As a demonstration, the following input parameters have been considered:\n",
    "\n",
    "* $s_{0}$ = 144\n",
    "* $vol$ = 0.315573\n",
    "* $r$ = 0.19062\n",
    "* $x$ = 144\n",
    "* $div$ = 0\n",
    "* $time$ = 1.5\n",
    "* $tree$ = 63\n",
    "* $sim$ = 10000"
   ]
  },
  {
   "cell_type": "markdown",
   "metadata": {},
   "source": [
    "### Calculating the value of the Call option."
   ]
  },
  {
   "cell_type": "code",
   "execution_count": 3,
   "metadata": {},
   "outputs": [
    {
     "name": "stdout",
     "output_type": "stream",
     "text": [
      "Call option value: 60.36\n",
      " Input parameters:\n",
      "s0=144.0\n",
      "vol=0.315573\n",
      "r=0.19062\n",
      "x=144.0\n",
      "div=0.0\n",
      "time=1.5\n",
      "tree=63\n",
      "sim=10000\n"
     ]
    }
   ],
   "source": [
    "import MCExotics as Exotics #importing the calculator\n",
    "\n",
    "derivative=Exotics.MCFixed(144,0.315573,0.19062,144,0,1.5,63,10000) #initialization\n",
    "derivative.call() #value of the option"
   ]
  },
  {
   "cell_type": "markdown",
   "metadata": {},
   "source": [
    "### Calculating the value of the Put option."
   ]
  },
  {
   "cell_type": "code",
   "execution_count": 4,
   "metadata": {},
   "outputs": [
    {
     "name": "stdout",
     "output_type": "stream",
     "text": [
      "Put option value: 17.57\n",
      " Input parameters:\n",
      "s0=144.0\n",
      "vol=0.315573\n",
      "r=0.19062\n",
      "x=144.0\n",
      "div=0.0\n",
      "time=1.5\n",
      "tree=63\n",
      "sim=10000\n"
     ]
    }
   ],
   "source": [
    "import MCExotics as Exotics #importing the calculator\n",
    "\n",
    "derivative=Exotics.MCFixed(144,0.315573,0.19062,144,0,1.5,63,10000) #initialization\n",
    "derivative.put() #value of the option"
   ]
  },
  {
   "cell_type": "markdown",
   "metadata": {},
   "source": [
    "## European (Floating Strike)."
   ]
  },
  {
   "cell_type": "markdown",
   "metadata": {},
   "source": [
    "An European floating strike **call** is the amount that the final price exceeds the minimum price achieved during the options life. Similarly, an European floating strike **put** is the amount by which the maximum price achieved exceeds the final option price. ie:\n",
    "\n",
    "$$\n",
    "Payoff=\n",
    "\\begin{cases}\n",
    "Max(S_T-S_t^*,0),&if\\:Call\\\\\n",
    "Max(S_t^{**}-S_T,0),&if\\:Put\n",
    "\\end{cases}\n",
    "$$\n"
   ]
  },
  {
   "cell_type": "markdown",
   "metadata": {},
   "source": [
    "$$\n",
    "\\begin{aligned}\n",
    "\\\\\n",
    "\\\\\n",
    "&Where\\\\\n",
    "S_t^*&=min(S_t:0\\le t \\le T)\\\\\n",
    "S_t^{**}&=max(S_t:0\\le t \\le T)\n",
    "\\end{aligned}\n",
    "$$"
   ]
  },
  {
   "cell_type": "markdown",
   "metadata": {},
   "source": [
    "As a demonstration, the following input parameters have been considered:\n",
    "\n",
    "* $s_{0}$ = 144\n",
    "* $vol$ = 0.315573\n",
    "* $r$ = 0.19062\n",
    "* $x$ = NA \n",
    "* $div$ = 0\n",
    "* $time$ = 1.5\n",
    "* $tree$ = 63\n",
    "* $sim$ = 10000"
   ]
  },
  {
   "cell_type": "markdown",
   "metadata": {},
   "source": [
    "### Calculating the value of the Call option."
   ]
  },
  {
   "cell_type": "code",
   "execution_count": 5,
   "metadata": {},
   "outputs": [
    {
     "name": "stdout",
     "output_type": "stream",
     "text": [
      "Call option value: 54.02\n",
      " Input parameters:\n",
      "s0=144.0\n",
      "vol=0.315573\n",
      "r=0.19062\n",
      "div=0.0\n",
      "time=1.5\n",
      "tree=63\n",
      "sim=10000\n"
     ]
    }
   ],
   "source": [
    "import MCExotics as Exotics #importing the calculator\n",
    "\n",
    "derivative=Exotics.MCFloat(144,0.315573,0.19062,0,1.5,63,10000) #initialization\n",
    "derivative.call() #value of the option"
   ]
  },
  {
   "cell_type": "markdown",
   "metadata": {},
   "source": [
    "### Calculating the value of the Put option."
   ]
  },
  {
   "cell_type": "code",
   "execution_count": 6,
   "metadata": {},
   "outputs": [
    {
     "name": "stdout",
     "output_type": "stream",
     "text": [
      "Put option value: 25.11\n",
      " Input parameters:\n",
      "s0=144.0\n",
      "vol=0.315573\n",
      "r=0.19062\n",
      "div=0.0\n",
      "time=1.5\n",
      "tree=63\n",
      "sim=10000\n"
     ]
    }
   ],
   "source": [
    "import MCExotics as Exotics #importing the calculator\n",
    "\n",
    "derivative=Exotics.MCFloat(144,0.315573,0.19062,0,1.5,63,10000) #initialization\n",
    "derivative.put() #value of the option"
   ]
  },
  {
   "cell_type": "markdown",
   "metadata": {},
   "source": [
    "## Asian (Fixed Strike)."
   ]
  },
  {
   "cell_type": "markdown",
   "metadata": {},
   "source": [
    "The payoff from an Asian (fixed strike) options depends on the average price over the life of the derivative. ie:\n",
    "\n",
    "$$\n",
    "Payoff=\n",
    "\\begin{cases}\n",
    "Max(A_0^*-x,0),&if\\:Call\\\\\n",
    "Max(x-A_0^*,0),&if\\:Put\n",
    "\\end{cases}\n",
    "$$\n",
    "\n"
   ]
  },
  {
   "cell_type": "markdown",
   "metadata": {},
   "source": [
    "$$\n",
    "\\begin{aligned}\n",
    "\\\\\n",
    "& Where\\\\\n",
    "A_0^*&=\\frac{1}{n+1}\\left(\\sum_{i=0}^{n}S_{t_i}\\right) \\\\\n",
    "\\end{aligned}\n",
    "$$"
   ]
  },
  {
   "cell_type": "markdown",
   "metadata": {},
   "source": [
    "As a demonstration, the following input parameters have been considered:\n",
    "\n",
    "* $s_{0}$ = 144\n",
    "* $vol$ = 0.315573\n",
    "* $r$ = 0.19062\n",
    "* $x$ = 144\n",
    "* $div$ = 0\n",
    "* $time$ = 1.5\n",
    "* $tree$ = 63\n",
    "* $sim$ = 10000"
   ]
  },
  {
   "cell_type": "markdown",
   "metadata": {},
   "source": [
    "### Calculating the value of the Call option."
   ]
  },
  {
   "cell_type": "code",
   "execution_count": 7,
   "metadata": {},
   "outputs": [
    {
     "name": "stdout",
     "output_type": "stream",
     "text": [
      "Call option value: 21.04\n",
      " Input parameters:\n",
      "s0=144.0\n",
      "vol=0.315573\n",
      "r=0.19062\n",
      "x=144.0\n",
      "div=0.0\n",
      "time=1.5\n",
      "tree=63\n",
      "sim=10000\n"
     ]
    }
   ],
   "source": [
    "import MCExotics as Exotics #importing the calculator\n",
    "\n",
    "derivative=Exotics.MCAsianFixed(144,0.315573,0.19062,144,0,1.5,63,10000) #initialization\n",
    "derivative.call() #value of the option"
   ]
  },
  {
   "cell_type": "markdown",
   "metadata": {},
   "source": [
    "### Calculating the value of the Put option."
   ]
  },
  {
   "cell_type": "code",
   "execution_count": 8,
   "metadata": {},
   "outputs": [
    {
     "name": "stdout",
     "output_type": "stream",
     "text": [
      "Put option value: 4.18\n",
      " Input parameters:\n",
      "s0=144.0\n",
      "vol=0.315573\n",
      "r=0.19062\n",
      "x=144.0\n",
      "div=0.0\n",
      "time=1.5\n",
      "tree=63\n",
      "sim=10000\n"
     ]
    }
   ],
   "source": [
    "import MCExotics as Exotics #importing the calculator\n",
    "\n",
    "derivative=Exotics.MCAsianFixed(144,0.315573,0.19062,144,0,1.5,63,10000) #initialization\n",
    "derivative.put() #value of the option"
   ]
  },
  {
   "cell_type": "markdown",
   "metadata": {},
   "source": [
    "## Asian (Floating Strike)."
   ]
  },
  {
   "cell_type": "markdown",
   "metadata": {},
   "source": [
    "The payoff from an Asian (floating strike) options is given by:\n",
    "\n",
    "$$\n",
    "Payoff=\n",
    "\\begin{cases}\n",
    "Max(S_T-A_0^*,0),&if\\:Call\\\\\n",
    "Max(A_0^*-S_T,0),&if\\:Put\n",
    "\\end{cases}\n",
    "$$\n",
    "\n"
   ]
  },
  {
   "cell_type": "markdown",
   "metadata": {},
   "source": [
    "$$\n",
    "\\begin{aligned}\n",
    "\\\\\n",
    "& Where\\\\\n",
    "A_0^*&=\\frac{1}{n+1}\\left(\\sum_{i=0}^{n}S_{t_i}\\right) \\\\\n",
    "\\end{aligned}\n",
    "$$"
   ]
  },
  {
   "cell_type": "markdown",
   "metadata": {},
   "source": [
    "As a demonstration, the following input parameters have been considered:\n",
    "\n",
    "* $s_{0}$ = 144\n",
    "* $vol$ = 0.315573\n",
    "* $r$ = 0.19062\n",
    "* $x$ = NA \n",
    "* $div$ = 0\n",
    "* $time$ = 1.5\n",
    "* $tree$ = 63\n",
    "* $sim$ = 10000"
   ]
  },
  {
   "cell_type": "markdown",
   "metadata": {},
   "source": [
    "### Calculating the value of the Call option."
   ]
  },
  {
   "cell_type": "code",
   "execution_count": 9,
   "metadata": {},
   "outputs": [
    {
     "name": "stdout",
     "output_type": "stream",
     "text": [
      "Call option value: 23.55\n",
      " Input parameters:\n",
      "s0=144.0\n",
      "vol=0.315573\n",
      "r=0.19062\n",
      "div=0.0\n",
      "time=1.5\n",
      "tree=63\n",
      "sim=10000\n"
     ]
    }
   ],
   "source": [
    "import MCExotics as Exotics #importing the calculator\n",
    "\n",
    "derivative=Exotics.MCAsianFloat(144,0.315573,0.19062,0,1.5,63,10000) #initialization\n",
    "derivative.call() #value of the option"
   ]
  },
  {
   "cell_type": "markdown",
   "metadata": {},
   "source": [
    "### Calculating the value of the Put option."
   ]
  },
  {
   "cell_type": "code",
   "execution_count": 10,
   "metadata": {},
   "outputs": [
    {
     "name": "stdout",
     "output_type": "stream",
     "text": [
      "Put option value: 4.61\n",
      " Input parameters:\n",
      "s0=144.0\n",
      "vol=0.315573\n",
      "r=0.19062\n",
      "div=0.0\n",
      "time=1.5\n",
      "tree=63\n",
      "sim=10000\n"
     ]
    }
   ],
   "source": [
    "import MCExotics as Exotics #importing the calculator\n",
    "\n",
    "derivative=Exotics.MCAsianFloat(144,0.315573,0.19062,0,1.5,63,10000) #initialization\n",
    "derivative.put() #value of the option"
   ]
  }
 ],
 "metadata": {
  "kernelspec": {
   "display_name": "Python 3",
   "language": "python",
   "name": "python3"
  },
  "language_info": {
   "codemirror_mode": {
    "name": "ipython",
    "version": 3
   },
   "file_extension": ".py",
   "mimetype": "text/x-python",
   "name": "python",
   "nbconvert_exporter": "python",
   "pygments_lexer": "ipython3",
   "version": "3.7.6"
  }
 },
 "nbformat": 4,
 "nbformat_minor": 4
}
